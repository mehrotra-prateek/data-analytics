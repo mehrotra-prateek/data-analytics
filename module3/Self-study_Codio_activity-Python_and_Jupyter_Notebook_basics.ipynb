{
 "cells": [
  {
   "cell_type": "markdown",
   "metadata": {
    "deletable": false,
    "editable": false,
    "nbgrader": {
     "checksum": "18ee2d1db71e2c4eb99304eb7ead1f70",
     "grade": false,
     "grade_id": "Introduction",
     "locked": true,
     "schema_version": 1,
     "solution": false
    }
   },
   "source": [
    "# Self-study Codio activity: Python and Jupyter Notebook basics\n",
    "---\n",
    "\n",
    "    \n",
    "## Overview\n",
    "\n",
    "In this activity, you will test your understanding of basic data types, including integers, strings and floats as well as lists, tuples and dictionaries. You will also perform basic commands in Python including running a program, printing to the screen, using the computer as a calculator and storing numbers using variables, lists, arrays and dictionaries.\n",
    "\n",
    "This activity is designed to build your familiarity and comfort coding in Python while also helping you review the key topics from each module. As you progress through the activity, the questions will get increasingly more complex. It is important that you adopt a programmer's mindset when completing this activity. Remember to run your code from each cell before submitting your activity, as doing so will give you a chance to fix any errors before submitting.\n",
    " \n",
    "\n",
    "### Learning outcome addressed\n",
    "\n",
    "- Run basic programs in Python.\n"
   ]
  },
  {
   "cell_type": "markdown",
   "metadata": {
    "deletable": false,
    "editable": false,
    "nbgrader": {
     "checksum": "4b0f41c4c02257eec3a14eb10050779a",
     "grade": false,
     "grade_id": "Index",
     "locked": true,
     "schema_version": 1,
     "solution": false
    }
   },
   "source": [
    "\n",
    "\n",
    "## Index:\n",
    "\n",
    "- [Question 1](#Question-1)\n",
    "- [Question 2](#Question-2)\n",
    "- [Question 3](#Question-3)\n",
    "- [Question 4](#Question-4)\n",
    "- [Question 5](#Question-5)\n",
    "- [Question 6](#Question-6)\n",
    "- [Question 7](#Question-7)\n",
    "- [Question 8](#Question-8)\n"
   ]
  },
  {
   "cell_type": "markdown",
   "metadata": {
    "deletable": false,
    "editable": false,
    "nbgrader": {
     "checksum": "5996276597ffd21310bb181f31934379",
     "grade": false,
     "grade_id": "Q1_Float_Mult",
     "locked": true,
     "schema_version": 1,
     "solution": false
    }
   },
   "source": [
    "[Back to top](#Index:) \n",
    "\n",
    "### Question 1\n",
    "Perform the following task:\n",
    "- Assign the value of 342 multiplied by 27.56 to the variable **ans1**, and make sure it's stored as a float."
   ]
  },
  {
   "cell_type": "code",
   "execution_count": 1,
   "metadata": {
    "deletable": false,
    "nbgrader": {
     "checksum": "45b2d5f06d9899dd4d7feaecf6e79daa",
     "grade": false,
     "grade_id": "Float_Mult_Ans",
     "locked": false,
     "schema_version": 1,
     "solution": true
    }
   },
   "outputs": [
    {
     "name": "stdout",
     "output_type": "stream",
     "text": [
      "9425.52\n",
      "<class 'float'>\n"
     ]
    }
   ],
   "source": [
    "ans1 = None\n",
    "\n",
    "# YOUR CODE HERE\n",
    "ans1 = 342 * 27.56\n",
    "\n",
    "# Answer check\n",
    "print(ans1)\n",
    "print(type(ans1))"
   ]
  },
  {
   "cell_type": "code",
   "execution_count": null,
   "metadata": {
    "deletable": false,
    "editable": false,
    "nbgrader": {
     "checksum": "d3827b724b68233a2dfe06c6584058bf",
     "grade": true,
     "grade_id": "Float_Mult_Test",
     "locked": true,
     "points": 1,
     "schema_version": 1,
     "solution": false
    }
   },
   "outputs": [],
   "source": []
  },
  {
   "cell_type": "markdown",
   "metadata": {
    "deletable": false,
    "editable": false,
    "nbgrader": {
     "checksum": "46c2333f277170ab162b64b627a0d2ac",
     "grade": false,
     "grade_id": "Q2_Description",
     "locked": true,
     "schema_version": 1,
     "solution": false
    }
   },
   "source": [
    "[Back to top](#Index:) \n",
    "\n",
    "### Question 2\n",
    "Perform the following task:\n",
    "- Assign the integer value 37 to the variable **ans2**.\n"
   ]
  },
  {
   "cell_type": "code",
   "execution_count": 2,
   "metadata": {
    "deletable": false,
    "nbgrader": {
     "checksum": "bf9fa3f8c9b5524f5e8fb78a8b2c8f8c",
     "grade": false,
     "grade_id": "Integer_Assign_Ans",
     "locked": false,
     "schema_version": 1,
     "solution": true
    }
   },
   "outputs": [
    {
     "name": "stdout",
     "output_type": "stream",
     "text": [
      "37\n"
     ]
    }
   ],
   "source": [
    "ans2 = None\n",
    "\n",
    "# YOUR CODE HERE\n",
    "ans2 = 37\n",
    "\n",
    "# Answer check\n",
    "print(ans2)\n"
   ]
  },
  {
   "cell_type": "code",
   "execution_count": null,
   "metadata": {
    "deletable": false,
    "editable": false,
    "nbgrader": {
     "checksum": "f7ad632eebd7b69764fd10fdaecc2d81",
     "grade": true,
     "grade_id": "Integer_Assign_Test",
     "locked": true,
     "points": 1,
     "schema_version": 1,
     "solution": false
    }
   },
   "outputs": [],
   "source": []
  },
  {
   "cell_type": "markdown",
   "metadata": {
    "deletable": false,
    "editable": false,
    "nbgrader": {
     "checksum": "089209837c144bb1def55ba2aad96829",
     "grade": false,
     "grade_id": "Q3_Description",
     "locked": true,
     "schema_version": 1,
     "solution": false
    }
   },
   "source": [
    "[Back to top](#Index:) \n",
    "\n",
    "### Question 3\n",
    "Perform the following task:\n",
    "- Assign the string ‘I love Python’ to the variable **ans3**.\n"
   ]
  },
  {
   "cell_type": "code",
   "execution_count": 5,
   "metadata": {
    "deletable": false,
    "nbgrader": {
     "checksum": "1460d0ccfb89add6f9a08109be91f040",
     "grade": false,
     "grade_id": "String_Assign_Ans",
     "locked": false,
     "schema_version": 1,
     "solution": true
    }
   },
   "outputs": [
    {
     "name": "stdout",
     "output_type": "stream",
     "text": [
      "I love Python\n"
     ]
    }
   ],
   "source": [
    "ans3 = None\n",
    "\n",
    "# YOUR CODE HERE\n",
    "ans3 = \"I love Python\"\n",
    "\n",
    "# Answer check\n",
    "print(ans3)\n"
   ]
  },
  {
   "cell_type": "code",
   "execution_count": null,
   "metadata": {
    "deletable": false,
    "editable": false,
    "nbgrader": {
     "checksum": "d8a19346f9bc1835b645c4dde85c4ee7",
     "grade": true,
     "grade_id": "String_Assign_Test",
     "locked": true,
     "points": 1,
     "schema_version": 1,
     "solution": false
    }
   },
   "outputs": [],
   "source": []
  },
  {
   "cell_type": "markdown",
   "metadata": {
    "deletable": false,
    "editable": false,
    "nbgrader": {
     "checksum": "27db72ef94886ab3065b4ff562a50a39",
     "grade": false,
     "grade_id": "Q4_Description",
     "locked": true,
     "schema_version": 1,
     "solution": false
    }
   },
   "source": [
    "###### [Back to top](#Index:) \n",
    "\n",
    "### Question 4\n",
    "Perform the following tasks:\n",
    "- Assign the string ‘Python Rules’ to the variable **a**.\n",
    "- Assign the integer 23 to the variable **b**.\n",
    "- Assign the float 15.345 to the variable **c**.\n",
    "- Print to screen the variables a, b and c separately.\n"
   ]
  },
  {
   "cell_type": "code",
   "execution_count": 4,
   "metadata": {
    "deletable": false,
    "nbgrader": {
     "checksum": "8c8048d53a9dbde5fb76b5f827bae36b",
     "grade": false,
     "grade_id": "Var_Assign_Ans",
     "locked": false,
     "schema_version": 1,
     "solution": true
    }
   },
   "outputs": [
    {
     "name": "stdout",
     "output_type": "stream",
     "text": [
      "Python Rules\n",
      "23\n",
      "15.345\n"
     ]
    }
   ],
   "source": [
    "a = None\n",
    "b = None\n",
    "c = None\n",
    "\n",
    "# YOUR CODE HERE\n",
    "a = \"Python Rules\"\n",
    "b = 23\n",
    "c = 15.345\n",
    "\n",
    "# Answer check\n",
    "print(a)\n",
    "print(b)\n",
    "print(c)\n"
   ]
  },
  {
   "cell_type": "code",
   "execution_count": null,
   "metadata": {
    "deletable": false,
    "editable": false,
    "nbgrader": {
     "checksum": "640a0c6e3269fb2351b4620029417347",
     "grade": true,
     "grade_id": "Var_Assign_Test",
     "locked": true,
     "points": 1,
     "schema_version": 1,
     "solution": false
    }
   },
   "outputs": [],
   "source": [
    "\n",
    "\n"
   ]
  },
  {
   "cell_type": "markdown",
   "metadata": {
    "deletable": false,
    "editable": false,
    "nbgrader": {
     "checksum": "34b3f17973e8cad9a00728a154f9ba0a",
     "grade": false,
     "grade_id": "Q5_Description",
     "locked": true,
     "schema_version": 1,
     "solution": false
    }
   },
   "source": [
    "###### [Back to top](#Index:) \n",
    "\n",
    "### Question 5\n",
    "Perform the following tasks:\n",
    "- Assign the integer 17 to variable **a**.\n",
    "- Assign the integer 8 to variable **b**.\n",
    "- Assign the integer 4 to variable **c**.\n",
    "- Assign the integer 3 to variable **d**.\n",
    "- Add a to b, and assign the answer to **calc_add**.\n",
    "- Multiply d and b, and assign the answer to **calc_mult**.\n",
    "- Subtract b from a, and assign the answer to **calc_subt**.\n",
    "- Divide b by c, and assign the answer to **calc_div**.\n"
   ]
  },
  {
   "cell_type": "code",
   "execution_count": 7,
   "metadata": {
    "deletable": false,
    "nbgrader": {
     "checksum": "87242a620c461b4f279d23f29a4340d4",
     "grade": false,
     "grade_id": "Calculator_Ans",
     "locked": false,
     "schema_version": 1,
     "solution": true
    }
   },
   "outputs": [
    {
     "name": "stdout",
     "output_type": "stream",
     "text": [
      "17\n",
      "8\n",
      "4\n",
      "3\n",
      "25\n",
      "24\n",
      "9\n",
      "2.0\n"
     ]
    }
   ],
   "source": [
    "a = None\n",
    "b = None\n",
    "c = None\n",
    "d = None\n",
    "\n",
    "calc_add = None\n",
    "calc_mult = None\n",
    "calc_subt = None\n",
    "calc_div = None\n",
    "\n",
    "# YOUR CODE HERE\n",
    "a = 17\n",
    "b = 8\n",
    "c = 4\n",
    "d = 3\n",
    "\n",
    "calc_add = a + b\n",
    "calc_mult = d * b\n",
    "calc_subt = a - b\n",
    "calc_div = b / c\n",
    "# Answer check\n",
    "print(a)\n",
    "print(b)\n",
    "print(c)\n",
    "print(d)\n",
    "print(calc_add)\n",
    "print(calc_mult)\n",
    "print(calc_subt)\n",
    "print(calc_div)"
   ]
  },
  {
   "cell_type": "code",
   "execution_count": null,
   "metadata": {
    "deletable": false,
    "editable": false,
    "nbgrader": {
     "checksum": "f6d57a270abb2a8ed00766f65207eda3",
     "grade": true,
     "grade_id": "Calculator_Tests",
     "locked": true,
     "points": 1,
     "schema_version": 1,
     "solution": false
    }
   },
   "outputs": [],
   "source": [
    "\n"
   ]
  },
  {
   "cell_type": "markdown",
   "metadata": {
    "deletable": false,
    "editable": false,
    "nbgrader": {
     "checksum": "49387c0a1aba4105397a995c259c70d2",
     "grade": false,
     "grade_id": "Q6_Description",
     "locked": true,
     "schema_version": 1,
     "solution": false
    }
   },
   "source": [
    "###### [Back to top](#Index:) \n",
    "\n",
    "### Question 6\n",
    "Perform the following tasks:\n",
    "- Assign the integer 35 to variable **alice_age**.\n",
    "- Assign the integer 32 to variable **steve_age**.\n",
    "- Assign the integer 19 to variable **john_age**.\n",
    "- Assign the integer 24 to variable **sally_age**.\n",
    "- Write a formula to calculate the total age of the individuals, and assign it to **total_age**.\n"
   ]
  },
  {
   "cell_type": "code",
   "execution_count": 8,
   "metadata": {
    "deletable": false,
    "nbgrader": {
     "checksum": "5e4ce89997bf8a786ea2cdd42480e0e8",
     "grade": false,
     "grade_id": "Var_Store_Ans",
     "locked": false,
     "schema_version": 1,
     "solution": true
    }
   },
   "outputs": [
    {
     "name": "stdout",
     "output_type": "stream",
     "text": [
      "35\n",
      "32\n",
      "19\n",
      "24\n",
      "110\n"
     ]
    }
   ],
   "source": [
    "alice_age = None \n",
    "steve_age = None\n",
    "john_age = None\n",
    "sally_age = None\n",
    "total_age = None\n",
    "\n",
    "\n",
    "# YOUR CODE HERE\n",
    "alice_age = 35\n",
    "steve_age = 32\n",
    "john_age = 19\n",
    "sally_age = 24\n",
    "total_age = alice_age + steve_age + john_age + sally_age\n",
    "\n",
    "# Answer check\n",
    "print(alice_age)\n",
    "print(steve_age)\n",
    "print(john_age)\n",
    "print(sally_age)\n",
    "print(total_age)\n"
   ]
  },
  {
   "cell_type": "code",
   "execution_count": null,
   "metadata": {
    "deletable": false,
    "editable": false,
    "nbgrader": {
     "checksum": "ae7817403d92790b320a41854627781c",
     "grade": true,
     "grade_id": "Var_Store_Tests",
     "locked": true,
     "points": 1,
     "schema_version": 1,
     "solution": false
    }
   },
   "outputs": [],
   "source": [
    "\n",
    "\n"
   ]
  },
  {
   "cell_type": "markdown",
   "metadata": {
    "deletable": false,
    "editable": false,
    "nbgrader": {
     "checksum": "57987fd8766a9ba193a97bdc11ab2d61",
     "grade": false,
     "grade_id": "Q7_Description",
     "locked": true,
     "schema_version": 1,
     "solution": false
    }
   },
   "source": [
    "###### [Back to top](#Index:) \n",
    "\n",
    "### Question 7\n",
    "Perform the following task:\n",
    "- Create a list called **friends_list** with the string names 'Alice','Steve','John','Sally' and 'Charlie' as elements.\n",
    "\n"
   ]
  },
  {
   "cell_type": "code",
   "execution_count": 9,
   "metadata": {
    "deletable": false,
    "nbgrader": {
     "checksum": "518d424b85642f9a96cda815ce72b9a6",
     "grade": false,
     "grade_id": "List_Store_Ans",
     "locked": false,
     "schema_version": 1,
     "solution": true
    }
   },
   "outputs": [
    {
     "name": "stdout",
     "output_type": "stream",
     "text": [
      "['Alice', 'Steve', 'John', 'Sally', 'Charlie']\n"
     ]
    }
   ],
   "source": [
    "\n",
    "friends_list = []\n",
    "\n",
    "# YOUR CODE HERE\n",
    "friends_list = ['Alice','Steve','John','Sally','Charlie']\n",
    "\n",
    "# Answer check\n",
    "print(friends_list)"
   ]
  },
  {
   "cell_type": "code",
   "execution_count": null,
   "metadata": {
    "deletable": false,
    "editable": false,
    "nbgrader": {
     "checksum": "87e85b10ff936f52552ee1b05e226db4",
     "grade": true,
     "grade_id": "List_Store_Tests",
     "locked": true,
     "points": 1,
     "schema_version": 1,
     "solution": false
    }
   },
   "outputs": [],
   "source": []
  },
  {
   "cell_type": "markdown",
   "metadata": {
    "deletable": false,
    "editable": false,
    "nbgrader": {
     "checksum": "3f8d472d446d66eefce357ffda12f5c2",
     "grade": false,
     "grade_id": "Q8_Description",
     "locked": true,
     "schema_version": 1,
     "solution": false
    }
   },
   "source": [
    "###### [Back to top](#Index:) \n",
    "\n",
    "### Question 8\n",
    "Perform the following task:\n",
    "- Create a dictionary called **ages**, and assign the following key names with their ages: 'Alice': 21, 'Steve': 23, 'John': 20, 'Sally': 19 and 'Charlie': 18.\n"
   ]
  },
  {
   "cell_type": "code",
   "execution_count": 10,
   "metadata": {
    "deletable": false,
    "nbgrader": {
     "checksum": "6d1f0a422d37f48ea9ed672791d3799c",
     "grade": false,
     "grade_id": "Dict_Store_Ans1",
     "locked": false,
     "schema_version": 1,
     "solution": true
    }
   },
   "outputs": [
    {
     "name": "stdout",
     "output_type": "stream",
     "text": [
      "{'Alice': 21, 'Steve': 23, 'John': 20, 'Sally': 19, 'Charlie': 18}\n"
     ]
    }
   ],
   "source": [
    "ages = {}\n",
    "\n",
    "# YOUR CODE HERE\n",
    "ages = {'Alice': 21, 'Steve': 23, 'John': 20, 'Sally': 19, 'Charlie': 18}\n",
    "\n",
    "# Answer check\n",
    "print(ages)"
   ]
  },
  {
   "cell_type": "code",
   "execution_count": null,
   "metadata": {
    "deletable": false,
    "editable": false,
    "nbgrader": {
     "checksum": "d1d785096d674218507676c7e3817074",
     "grade": true,
     "grade_id": "Dict_Store_Tests1",
     "locked": true,
     "points": 1,
     "schema_version": 1,
     "solution": false
    }
   },
   "outputs": [],
   "source": []
  },
  {
   "cell_type": "code",
   "execution_count": null,
   "metadata": {},
   "outputs": [],
   "source": []
  }
 ],
 "metadata": {
  "kernelspec": {
   "display_name": "Python 3",
   "language": "python",
   "name": "python3"
  },
  "language_info": {
   "codemirror_mode": {
    "name": "ipython",
    "version": 3
   },
   "file_extension": ".py",
   "mimetype": "text/x-python",
   "name": "python",
   "nbconvert_exporter": "python",
   "pygments_lexer": "ipython3",
   "version": "3.6.9"
  }
 },
 "nbformat": 4,
 "nbformat_minor": 4
}
